{
 "cells": [
  {
   "cell_type": "markdown",
   "id": "07d27f67",
   "metadata": {},
   "source": [
    "# Libraries"
   ]
  },
  {
   "cell_type": "code",
   "execution_count": 1,
   "id": "4b280ed3",
   "metadata": {},
   "outputs": [],
   "source": [
    "import pandas as pd"
   ]
  },
  {
   "cell_type": "markdown",
   "id": "95161a27",
   "metadata": {},
   "source": [
    "# Import Data"
   ]
  },
  {
   "cell_type": "code",
   "execution_count": 26,
   "id": "f88a4a6c",
   "metadata": {},
   "outputs": [],
   "source": [
    "news_df = pd.read_csv('../DATA/news_125K_raw.csv', index_col=0)"
   ]
  },
  {
   "cell_type": "code",
   "execution_count": 27,
   "id": "63752280",
   "metadata": {},
   "outputs": [
    {
     "data": {
      "text/html": [
       "<div>\n",
       "<style scoped>\n",
       "    .dataframe tbody tr th:only-of-type {\n",
       "        vertical-align: middle;\n",
       "    }\n",
       "\n",
       "    .dataframe tbody tr th {\n",
       "        vertical-align: top;\n",
       "    }\n",
       "\n",
       "    .dataframe thead th {\n",
       "        text-align: right;\n",
       "    }\n",
       "</style>\n",
       "<table border=\"1\" class=\"dataframe\">\n",
       "  <thead>\n",
       "    <tr style=\"text-align: right;\">\n",
       "      <th></th>\n",
       "      <th>Unnamed: 0.1</th>\n",
       "      <th>Unnamed: 0</th>\n",
       "      <th>title</th>\n",
       "      <th>body</th>\n",
       "      <th>topic</th>\n",
       "      <th>votes</th>\n",
       "      <th>clicks</th>\n",
       "      <th>comments</th>\n",
       "    </tr>\n",
       "  </thead>\n",
       "  <tbody>\n",
       "    <tr>\n",
       "      <th>0</th>\n",
       "      <td>0</td>\n",
       "      <td>0</td>\n",
       "      <td>Muere Toni Batllori, autor de la tira diaria d...</td>\n",
       "      <td>Toni Batllori Obiols ha fallecido esta noche e...</td>\n",
       "      <td>Únete a Cultura</td>\n",
       "      <td>144</td>\n",
       "      <td>1.1k</td>\n",
       "      <td>11</td>\n",
       "    </tr>\n",
       "    <tr>\n",
       "      <th>1</th>\n",
       "      <td>1</td>\n",
       "      <td>1</td>\n",
       "      <td>La anarquía explicada a los niños por José A. ...</td>\n",
       "      <td>En 1931 el maestro José Antonio Emmanuel, y me...</td>\n",
       "      <td>Únete a Cultura</td>\n",
       "      <td>196</td>\n",
       "      <td>1.8k</td>\n",
       "      <td>109</td>\n",
       "    </tr>\n",
       "    <tr>\n",
       "      <th>2</th>\n",
       "      <td>2</td>\n",
       "      <td>2</td>\n",
       "      <td>Rhianan Rudd, la adolescente a la que el MI5 a...</td>\n",
       "      <td>Rhianan Rudd, una adolescente de 14 años que v...</td>\n",
       "      <td>Únete a Actualidad</td>\n",
       "      <td>330</td>\n",
       "      <td>6.1k</td>\n",
       "      <td>77</td>\n",
       "    </tr>\n",
       "    <tr>\n",
       "      <th>3</th>\n",
       "      <td>3</td>\n",
       "      <td>3</td>\n",
       "      <td>Piden por burofax al obispo de Cartagena que r...</td>\n",
       "      <td>La catedral de Murcia, la iglesia de El Salvad...</td>\n",
       "      <td>Únete a Politica</td>\n",
       "      <td>410</td>\n",
       "      <td>881</td>\n",
       "      <td>54</td>\n",
       "    </tr>\n",
       "    <tr>\n",
       "      <th>4</th>\n",
       "      <td>4</td>\n",
       "      <td>4</td>\n",
       "      <td>Érase una vez... (1950)</td>\n",
       "      <td>Érase una vez... (1950) dirigida por Josep Esc...</td>\n",
       "      <td>Únete a Cultura</td>\n",
       "      <td>114</td>\n",
       "      <td>1k</td>\n",
       "      <td>9</td>\n",
       "    </tr>\n",
       "    <tr>\n",
       "      <th>...</th>\n",
       "      <td>...</td>\n",
       "      <td>...</td>\n",
       "      <td>...</td>\n",
       "      <td>...</td>\n",
       "      <td>...</td>\n",
       "      <td>...</td>\n",
       "      <td>...</td>\n",
       "      <td>...</td>\n",
       "    </tr>\n",
       "    <tr>\n",
       "      <th>126447</th>\n",
       "      <td>126447</td>\n",
       "      <td>2651</td>\n",
       "      <td>El paro del 0,86%. «Camionero García». Opinión</td>\n",
       "      <td>Llama mucho la atención que muchos de estos qu...</td>\n",
       "      <td>Únete a Actualidad</td>\n",
       "      <td>334</td>\n",
       "      <td>1.4k</td>\n",
       "      <td>25</td>\n",
       "    </tr>\n",
       "    <tr>\n",
       "      <th>126448</th>\n",
       "      <td>126448</td>\n",
       "      <td>2652</td>\n",
       "      <td>Yolanda Diaz confirma que se presentará a la P...</td>\n",
       "      <td>\"Yolanda Díaz está dispuesta a ser candidata a...</td>\n",
       "      <td>Únete a Politica</td>\n",
       "      <td>762</td>\n",
       "      <td>2.3k</td>\n",
       "      <td>314</td>\n",
       "    </tr>\n",
       "    <tr>\n",
       "      <th>126449</th>\n",
       "      <td>126449</td>\n",
       "      <td>2653</td>\n",
       "      <td>Un juzgado de Alicante da la razón a un jubila...</td>\n",
       "      <td>Un juzgado de Lo Social de Alicante ha reconoc...</td>\n",
       "      <td>Únete a Actualidad</td>\n",
       "      <td>297</td>\n",
       "      <td>843</td>\n",
       "      <td>34</td>\n",
       "    </tr>\n",
       "    <tr>\n",
       "      <th>126450</th>\n",
       "      <td>126450</td>\n",
       "      <td>2654</td>\n",
       "      <td>El éxito chino determina la tensión militar</td>\n",
       "      <td>Ucrania forma parte y es prolegómeno de la gue...</td>\n",
       "      <td>Únete a Politica</td>\n",
       "      <td>310</td>\n",
       "      <td>4.1k</td>\n",
       "      <td>88</td>\n",
       "    </tr>\n",
       "    <tr>\n",
       "      <th>126451</th>\n",
       "      <td>126451</td>\n",
       "      <td>2655</td>\n",
       "      <td>El fin del camino a la servidumbre. La fiesta ...</td>\n",
       "      <td>En este artículo el escritor de ciencia ficció...</td>\n",
       "      <td>Únete a Politica</td>\n",
       "      <td>351</td>\n",
       "      <td>2.8k</td>\n",
       "      <td>63</td>\n",
       "    </tr>\n",
       "  </tbody>\n",
       "</table>\n",
       "<p>126452 rows × 8 columns</p>\n",
       "</div>"
      ],
      "text/plain": [
       "        Unnamed: 0.1  Unnamed: 0  \\\n",
       "0                  0           0   \n",
       "1                  1           1   \n",
       "2                  2           2   \n",
       "3                  3           3   \n",
       "4                  4           4   \n",
       "...              ...         ...   \n",
       "126447        126447        2651   \n",
       "126448        126448        2652   \n",
       "126449        126449        2653   \n",
       "126450        126450        2654   \n",
       "126451        126451        2655   \n",
       "\n",
       "                                                    title  \\\n",
       "0       Muere Toni Batllori, autor de la tira diaria d...   \n",
       "1       La anarquía explicada a los niños por José A. ...   \n",
       "2       Rhianan Rudd, la adolescente a la que el MI5 a...   \n",
       "3       Piden por burofax al obispo de Cartagena que r...   \n",
       "4                                 Érase una vez... (1950)   \n",
       "...                                                   ...   \n",
       "126447     El paro del 0,86%. «Camionero García». Opinión   \n",
       "126448  Yolanda Diaz confirma que se presentará a la P...   \n",
       "126449  Un juzgado de Alicante da la razón a un jubila...   \n",
       "126450        El éxito chino determina la tensión militar   \n",
       "126451  El fin del camino a la servidumbre. La fiesta ...   \n",
       "\n",
       "                                                     body               topic  \\\n",
       "0       Toni Batllori Obiols ha fallecido esta noche e...     Únete a Cultura   \n",
       "1       En 1931 el maestro José Antonio Emmanuel, y me...     Únete a Cultura   \n",
       "2       Rhianan Rudd, una adolescente de 14 años que v...  Únete a Actualidad   \n",
       "3       La catedral de Murcia, la iglesia de El Salvad...    Únete a Politica   \n",
       "4       Érase una vez... (1950) dirigida por Josep Esc...     Únete a Cultura   \n",
       "...                                                   ...                 ...   \n",
       "126447  Llama mucho la atención que muchos de estos qu...  Únete a Actualidad   \n",
       "126448  \"Yolanda Díaz está dispuesta a ser candidata a...    Únete a Politica   \n",
       "126449  Un juzgado de Lo Social de Alicante ha reconoc...  Únete a Actualidad   \n",
       "126450  Ucrania forma parte y es prolegómeno de la gue...    Únete a Politica   \n",
       "126451  En este artículo el escritor de ciencia ficció...    Únete a Politica   \n",
       "\n",
       "       votes clicks comments  \n",
       "0        144   1.1k       11  \n",
       "1        196   1.8k      109  \n",
       "2        330   6.1k       77  \n",
       "3        410    881       54  \n",
       "4        114     1k        9  \n",
       "...      ...    ...      ...  \n",
       "126447   334   1.4k       25  \n",
       "126448   762   2.3k      314  \n",
       "126449   297    843       34  \n",
       "126450   310   4.1k       88  \n",
       "126451   351   2.8k       63  \n",
       "\n",
       "[126452 rows x 8 columns]"
      ]
     },
     "execution_count": 27,
     "metadata": {},
     "output_type": "execute_result"
    }
   ],
   "source": [
    "news_df"
   ]
  },
  {
   "cell_type": "markdown",
   "id": "1375d099",
   "metadata": {},
   "source": [
    "# Data cleaning"
   ]
  },
  {
   "cell_type": "markdown",
   "id": "a29ff1cf",
   "metadata": {},
   "source": [
    "### Removing"
   ]
  },
  {
   "cell_type": "markdown",
   "id": "12b2e0b2",
   "metadata": {},
   "source": [
    "#### Remove unwanted columns"
   ]
  },
  {
   "cell_type": "code",
   "execution_count": 4,
   "id": "55bbf9f0",
   "metadata": {},
   "outputs": [],
   "source": [
    "news_df.drop(columns=['Unnamed: 0.1', 'Unnamed: 0'], axis=1, inplace=True)"
   ]
  },
  {
   "cell_type": "markdown",
   "id": "9a67b7e2",
   "metadata": {},
   "source": [
    "#### Remove duplicated rows"
   ]
  },
  {
   "cell_type": "code",
   "execution_count": 5,
   "id": "cde49df7",
   "metadata": {},
   "outputs": [
    {
     "data": {
      "text/plain": [
       "2583"
      ]
     },
     "execution_count": 5,
     "metadata": {},
     "output_type": "execute_result"
    }
   ],
   "source": [
    "news_df.duplicated().sum()"
   ]
  },
  {
   "cell_type": "code",
   "execution_count": 6,
   "id": "23f8a275",
   "metadata": {},
   "outputs": [],
   "source": [
    "news_df.drop_duplicates(inplace=True)"
   ]
  },
  {
   "cell_type": "markdown",
   "id": "393ac5cb",
   "metadata": {},
   "source": [
    "#### Remove subset duplicated rows"
   ]
  },
  {
   "cell_type": "code",
   "execution_count": 7,
   "id": "1fb83adf",
   "metadata": {},
   "outputs": [
    {
     "data": {
      "text/html": [
       "<div>\n",
       "<style scoped>\n",
       "    .dataframe tbody tr th:only-of-type {\n",
       "        vertical-align: middle;\n",
       "    }\n",
       "\n",
       "    .dataframe tbody tr th {\n",
       "        vertical-align: top;\n",
       "    }\n",
       "\n",
       "    .dataframe thead th {\n",
       "        text-align: right;\n",
       "    }\n",
       "</style>\n",
       "<table border=\"1\" class=\"dataframe\">\n",
       "  <thead>\n",
       "    <tr style=\"text-align: right;\">\n",
       "      <th></th>\n",
       "      <th>title</th>\n",
       "      <th>body</th>\n",
       "      <th>topic</th>\n",
       "      <th>votes</th>\n",
       "      <th>clicks</th>\n",
       "      <th>comments</th>\n",
       "    </tr>\n",
       "  </thead>\n",
       "  <tbody>\n",
       "    <tr>\n",
       "      <th>count</th>\n",
       "      <td>123869</td>\n",
       "      <td>123864</td>\n",
       "      <td>123869</td>\n",
       "      <td>123869</td>\n",
       "      <td>123869</td>\n",
       "      <td>123869</td>\n",
       "    </tr>\n",
       "    <tr>\n",
       "      <th>unique</th>\n",
       "      <td>123659</td>\n",
       "      <td>123604</td>\n",
       "      <td>226</td>\n",
       "      <td>991</td>\n",
       "      <td>1127</td>\n",
       "      <td>731</td>\n",
       "    </tr>\n",
       "    <tr>\n",
       "      <th>top</th>\n",
       "      <td>Dos noticias que se entienden mejor juntas</td>\n",
       "      <td>Viñeta de Bernardo Vergara</td>\n",
       "      <td>Únete a Actualidad</td>\n",
       "      <td>1.1k</td>\n",
       "      <td>1.7k</td>\n",
       "      <td>44</td>\n",
       "    </tr>\n",
       "    <tr>\n",
       "      <th>freq</th>\n",
       "      <td>5</td>\n",
       "      <td>32</td>\n",
       "      <td>68524</td>\n",
       "      <td>2184</td>\n",
       "      <td>2705</td>\n",
       "      <td>1199</td>\n",
       "    </tr>\n",
       "  </tbody>\n",
       "</table>\n",
       "</div>"
      ],
      "text/plain": [
       "                                             title  \\\n",
       "count                                       123869   \n",
       "unique                                      123659   \n",
       "top     Dos noticias que se entienden mejor juntas   \n",
       "freq                                             5   \n",
       "\n",
       "                              body               topic   votes  clicks  \\\n",
       "count                       123864              123869  123869  123869   \n",
       "unique                      123604                 226     991    1127   \n",
       "top     Viñeta de Bernardo Vergara  Únete a Actualidad    1.1k    1.7k   \n",
       "freq                            32               68524    2184    2705   \n",
       "\n",
       "       comments  \n",
       "count    123869  \n",
       "unique      731  \n",
       "top          44  \n",
       "freq       1199  "
      ]
     },
     "execution_count": 7,
     "metadata": {},
     "output_type": "execute_result"
    }
   ],
   "source": [
    "news_df.describe(include='all')"
   ]
  },
  {
   "cell_type": "code",
   "execution_count": 8,
   "id": "24767f21",
   "metadata": {},
   "outputs": [],
   "source": [
    "news_df.drop_duplicates(subset='title', inplace=True)"
   ]
  },
  {
   "cell_type": "code",
   "execution_count": 9,
   "id": "fa99bc32",
   "metadata": {},
   "outputs": [],
   "source": [
    "news_df.drop_duplicates(subset='body', inplace=True)"
   ]
  },
  {
   "cell_type": "markdown",
   "id": "a05916c5",
   "metadata": {},
   "source": [
    "### Topic feature"
   ]
  },
  {
   "cell_type": "markdown",
   "id": "6b158d9c",
   "metadata": {},
   "source": [
    "#### Regroup topic classification"
   ]
  },
  {
   "cell_type": "code",
   "execution_count": 10,
   "id": "60707fa6",
   "metadata": {},
   "outputs": [
    {
     "data": {
      "text/plain": [
       "Únete a Actualidad      68382\n",
       "Únete a Cultura         23738\n",
       "Únete a Tecnología       9829\n",
       "Únete a Ocio             8064\n",
       "Únete a Mnm              6335\n",
       "                        ...  \n",
       "Únete a Arquitectura        1\n",
       "Únete a Rol                 1\n",
       "Únete a Micromundo          1\n",
       "Únete a Genetica            1\n",
       "Únete a Abandonos           1\n",
       "Name: topic, Length: 225, dtype: int64"
      ]
     },
     "execution_count": 10,
     "metadata": {},
     "output_type": "execute_result"
    }
   ],
   "source": [
    "news_df['topic'].value_counts()[0:227]"
   ]
  },
  {
   "cell_type": "code",
   "execution_count": 11,
   "id": "e6fb4b61",
   "metadata": {},
   "outputs": [],
   "source": [
    "news_df.loc[news_df['topic']=='Únete a Actualidad','topic'] = 'Latest'\n",
    "news_df.loc[news_df['topic']=='Únete a Cultura','topic'] = 'Culture'\n",
    "news_df.loc[news_df['topic']=='Únete a Tecnología','topic'] = 'Technology'\n",
    "news_df.loc[news_df['topic']=='Únete a Ocio','topic'] = 'Entertainment'\n",
    "news_df.loc[news_df['topic']=='Únete a Politica','topic'] = 'Politics'\n",
    "news_df.loc[news_df['topic']=='Únete a Ciencia','topic'] = 'Science'\n",
    "news_df.loc[news_df['topic']=='Únete a Astronomia','topic'] = 'Science'\n",
    "news_df.loc[news_df['topic']=='Únete a Linux','topic'] = 'Technology'\n",
    "news_df.loc[news_df['topic']=='Únete a Vacúname','topic'] = 'Science'\n",
    "news_df.loc[news_df['topic']=='Únete a Sucesos','topic'] = 'Latest'\n",
    "news_df.loc[news_df['topic']=='Únete a Videojuegos','topic'] = 'Technology'\n",
    "news_df.loc[news_df['topic']=='Únete a Motor','topic'] = 'Technology'\n",
    "news_df.loc[news_df['topic']=='Únete a Barcos','topic'] = 'Technology'\n",
    "news_df.loc[news_df['topic']=='Únete a Podemos','topic'] = 'Politics'\n",
    "news_df.loc[news_df['topic']=='Únete a Softlibre','topic'] = 'Technology'\n",
    "news_df.loc[news_df['topic']=='Únete a Sysdevs','topic'] = 'Technology'\n",
    "news_df.loc[news_df['topic']=='Únete a Trenes','topic'] = 'Technology'\n",
    "news_df.loc[news_df['topic']=='Únete a Series','topic'] = 'Culture'\n",
    "news_df.loc[news_df['topic']=='Únete a Música','topic'] = 'Culture'\n",
    "news_df.loc[news_df['topic']=='Únete a Coronavirus','topic'] = 'Science'\n",
    "news_df.loc[news_df['topic']=='Únete a Salud','topic'] = 'Science'\n",
    "news_df.loc[news_df['topic']=='Únete a Cine','topic'] = 'Culture'\n",
    "news_df.loc[news_df['topic']=='Únete a Botánica','topic'] = 'Science'\n",
    "news_df.loc[news_df['topic']=='Únete a Idiomas','topic'] = 'Culture'\n",
    "news_df.loc[news_df['topic']=='Únete a Mambiente','topic'] = 'Science'\n",
    "news_df.loc[news_df['topic']=='Únete a Sequía','topic'] = 'Science'\n",
    "news_df.loc[news_df['topic']=='Únete a Anarquismo','topic'] = 'Politics'\n",
    "news_df.loc[news_df['topic']=='Únete a Motociclismo','topic'] = 'Technology'\n",
    "news_df.loc[news_df['topic']=='Únete a Fotografía','topic'] = 'Culture'\n",
    "news_df.loc[news_df['topic']=='Únete a Medicina','topic'] = 'Science'\n",
    "news_df.loc[news_df['topic']=='Únete a Biologia','topic'] = 'Science'\n",
    "news_df.loc[news_df['topic']=='Únete a Música70','topic'] = 'Culture'\n",
    "news_df.loc[news_df['topic']=='Únete a Psicología','topic'] = 'Science'\n",
    "news_df.loc[news_df['topic']=='Únete a Feminismo','topic'] = 'Politics'\n",
    "news_df.loc[news_df['topic']=='Únete a Energias','topic'] = 'Science'\n",
    "news_df.loc[news_df['topic']=='Únete a Neurociencia','topic'] = 'Science'\n",
    "news_df.loc[news_df['topic']=='Únete a Mnm','topic'] = 'Latest'\n"
   ]
  },
  {
   "cell_type": "markdown",
   "id": "f601b6d7",
   "metadata": {},
   "source": [
    "#### Assign 'Uncategorized' topic to the rest"
   ]
  },
  {
   "cell_type": "code",
   "execution_count": 12,
   "id": "8b540d62",
   "metadata": {},
   "outputs": [],
   "source": [
    "topics = ['Latest', 'Culture', 'Technology', 'Entertainment', 'Politics', 'Science']\n",
    "news_df['topic'][~news_df['topic'].isin(topics)]  = 'Uncategorized'\n"
   ]
  },
  {
   "cell_type": "code",
   "execution_count": 13,
   "id": "811947c5",
   "metadata": {},
   "outputs": [
    {
     "data": {
      "text/plain": [
       "Latest           74777\n",
       "Culture          23799\n",
       "Technology       10125\n",
       "Entertainment     8064\n",
       "Politics          3793\n",
       "Science           1979\n",
       "Uncategorized      964\n",
       "Name: topic, dtype: int64"
      ]
     },
     "execution_count": 13,
     "metadata": {},
     "output_type": "execute_result"
    }
   ],
   "source": [
    "news_df['topic'].value_counts()"
   ]
  },
  {
   "cell_type": "markdown",
   "id": "b2fd77a6",
   "metadata": {},
   "source": [
    "### Clicks, votes and comments fetaure"
   ]
  },
  {
   "cell_type": "markdown",
   "id": "269a336f",
   "metadata": {},
   "source": [
    "#### Substitute the 'k' for 00 (thousands)"
   ]
  },
  {
   "cell_type": "code",
   "execution_count": 14,
   "id": "4b2627aa",
   "metadata": {},
   "outputs": [],
   "source": [
    "news_df['clicks'] = news_df['clicks'].str.replace('k', '00', regex=True)\n",
    "news_df['votes'] = news_df['votes'].str.replace('k', '00', regex=True)\n",
    "news_df['comments'] = news_df['comments'].str.replace('k', '00', regex=True)"
   ]
  },
  {
   "cell_type": "markdown",
   "id": "252365ff",
   "metadata": {},
   "source": [
    "#### Delete any character that is not a decimal digit"
   ]
  },
  {
   "cell_type": "code",
   "execution_count": 15,
   "id": "e5eccf9f",
   "metadata": {},
   "outputs": [],
   "source": [
    "news_df['clicks'] = news_df['clicks'].str.replace(r'\\D+', '', regex=True)\n",
    "news_df['votes'] = news_df['votes'].str.replace(r'\\D+', '', regex=True)\n",
    "news_df['comments'] = news_df['comments'].str.replace(r'\\D+', '', regex=True)"
   ]
  },
  {
   "cell_type": "markdown",
   "id": "d98a3015",
   "metadata": {},
   "source": [
    "### Nans or null values"
   ]
  },
  {
   "cell_type": "code",
   "execution_count": 16,
   "id": "37ab3f3c",
   "metadata": {},
   "outputs": [
    {
     "data": {
      "text/plain": [
       "title       0\n",
       "body        1\n",
       "topic       0\n",
       "votes       0\n",
       "clicks      0\n",
       "comments    0\n",
       "dtype: int64"
      ]
     },
     "execution_count": 16,
     "metadata": {},
     "output_type": "execute_result"
    }
   ],
   "source": [
    "news_df.isna().sum()"
   ]
  },
  {
   "cell_type": "markdown",
   "id": "0b035baa",
   "metadata": {},
   "source": [
    "#### Substitute Nans in comments for 0"
   ]
  },
  {
   "cell_type": "code",
   "execution_count": 17,
   "id": "a76d53c8",
   "metadata": {},
   "outputs": [],
   "source": [
    "news_df['comments'].fillna(0, inplace=True)"
   ]
  },
  {
   "cell_type": "markdown",
   "id": "408af708",
   "metadata": {},
   "source": [
    "#### Delete empty body rows"
   ]
  },
  {
   "cell_type": "code",
   "execution_count": 18,
   "id": "cc28170f",
   "metadata": {},
   "outputs": [],
   "source": [
    "news_df.dropna(inplace=True)"
   ]
  },
  {
   "cell_type": "markdown",
   "id": "88ae0d07",
   "metadata": {},
   "source": [
    "### Dtypes"
   ]
  },
  {
   "cell_type": "code",
   "execution_count": 19,
   "id": "faa52c85",
   "metadata": {},
   "outputs": [
    {
     "name": "stdout",
     "output_type": "stream",
     "text": [
      "<class 'pandas.core.frame.DataFrame'>\n",
      "Int64Index: 123500 entries, 0 to 123860\n",
      "Data columns (total 6 columns):\n",
      " #   Column    Non-Null Count   Dtype \n",
      "---  ------    --------------   ----- \n",
      " 0   title     123500 non-null  object\n",
      " 1   body      123500 non-null  object\n",
      " 2   topic     123500 non-null  object\n",
      " 3   votes     123500 non-null  object\n",
      " 4   clicks    123500 non-null  object\n",
      " 5   comments  123500 non-null  object\n",
      "dtypes: object(6)\n",
      "memory usage: 6.6+ MB\n"
     ]
    }
   ],
   "source": [
    "news_df.info()"
   ]
  },
  {
   "cell_type": "code",
   "execution_count": 20,
   "id": "8417f0c4",
   "metadata": {},
   "outputs": [],
   "source": [
    "dtypes = {'votes': int,\n",
    "         'clicks': int,\n",
    "         'comments': int}\n",
    "\n",
    "news_df = news_df.astype(dtypes)"
   ]
  },
  {
   "cell_type": "markdown",
   "id": "6e2f2eee",
   "metadata": {},
   "source": [
    "# Checking"
   ]
  },
  {
   "cell_type": "code",
   "execution_count": 21,
   "id": "9e8fae34",
   "metadata": {},
   "outputs": [
    {
     "data": {
      "text/html": [
       "<div>\n",
       "<style scoped>\n",
       "    .dataframe tbody tr th:only-of-type {\n",
       "        vertical-align: middle;\n",
       "    }\n",
       "\n",
       "    .dataframe tbody tr th {\n",
       "        vertical-align: top;\n",
       "    }\n",
       "\n",
       "    .dataframe thead th {\n",
       "        text-align: right;\n",
       "    }\n",
       "</style>\n",
       "<table border=\"1\" class=\"dataframe\">\n",
       "  <thead>\n",
       "    <tr style=\"text-align: right;\">\n",
       "      <th></th>\n",
       "      <th>title</th>\n",
       "      <th>body</th>\n",
       "      <th>topic</th>\n",
       "      <th>votes</th>\n",
       "      <th>clicks</th>\n",
       "      <th>comments</th>\n",
       "    </tr>\n",
       "  </thead>\n",
       "  <tbody>\n",
       "    <tr>\n",
       "      <th>count</th>\n",
       "      <td>123500</td>\n",
       "      <td>123500</td>\n",
       "      <td>123500</td>\n",
       "      <td>123500.000000</td>\n",
       "      <td>123500.000000</td>\n",
       "      <td>123500.000000</td>\n",
       "    </tr>\n",
       "    <tr>\n",
       "      <th>unique</th>\n",
       "      <td>123500</td>\n",
       "      <td>123500</td>\n",
       "      <td>7</td>\n",
       "      <td>NaN</td>\n",
       "      <td>NaN</td>\n",
       "      <td>NaN</td>\n",
       "    </tr>\n",
       "    <tr>\n",
       "      <th>top</th>\n",
       "      <td>Muere Toni Batllori, autor de la tira diaria d...</td>\n",
       "      <td>Toni Batllori Obiols ha fallecido esta noche e...</td>\n",
       "      <td>Latest</td>\n",
       "      <td>NaN</td>\n",
       "      <td>NaN</td>\n",
       "      <td>NaN</td>\n",
       "    </tr>\n",
       "    <tr>\n",
       "      <th>freq</th>\n",
       "      <td>1</td>\n",
       "      <td>1</td>\n",
       "      <td>74777</td>\n",
       "      <td>NaN</td>\n",
       "      <td>NaN</td>\n",
       "      <td>NaN</td>\n",
       "    </tr>\n",
       "    <tr>\n",
       "      <th>mean</th>\n",
       "      <td>NaN</td>\n",
       "      <td>NaN</td>\n",
       "      <td>NaN</td>\n",
       "      <td>499.308907</td>\n",
       "      <td>4266.780502</td>\n",
       "      <td>93.947012</td>\n",
       "    </tr>\n",
       "    <tr>\n",
       "      <th>std</th>\n",
       "      <td>NaN</td>\n",
       "      <td>NaN</td>\n",
       "      <td>NaN</td>\n",
       "      <td>381.540534</td>\n",
       "      <td>4496.099653</td>\n",
       "      <td>82.082242</td>\n",
       "    </tr>\n",
       "    <tr>\n",
       "      <th>min</th>\n",
       "      <td>NaN</td>\n",
       "      <td>NaN</td>\n",
       "      <td>NaN</td>\n",
       "      <td>10.000000</td>\n",
       "      <td>21.000000</td>\n",
       "      <td>1.000000</td>\n",
       "    </tr>\n",
       "    <tr>\n",
       "      <th>25%</th>\n",
       "      <td>NaN</td>\n",
       "      <td>NaN</td>\n",
       "      <td>NaN</td>\n",
       "      <td>246.000000</td>\n",
       "      <td>1500.000000</td>\n",
       "      <td>40.000000</td>\n",
       "    </tr>\n",
       "    <tr>\n",
       "      <th>50%</th>\n",
       "      <td>NaN</td>\n",
       "      <td>NaN</td>\n",
       "      <td>NaN</td>\n",
       "      <td>390.000000</td>\n",
       "      <td>2900.000000</td>\n",
       "      <td>71.000000</td>\n",
       "    </tr>\n",
       "    <tr>\n",
       "      <th>75%</th>\n",
       "      <td>NaN</td>\n",
       "      <td>NaN</td>\n",
       "      <td>NaN</td>\n",
       "      <td>625.000000</td>\n",
       "      <td>5500.000000</td>\n",
       "      <td>121.000000</td>\n",
       "    </tr>\n",
       "    <tr>\n",
       "      <th>max</th>\n",
       "      <td>NaN</td>\n",
       "      <td>NaN</td>\n",
       "      <td>NaN</td>\n",
       "      <td>5600.000000</td>\n",
       "      <td>293100.000000</td>\n",
       "      <td>1600.000000</td>\n",
       "    </tr>\n",
       "  </tbody>\n",
       "</table>\n",
       "</div>"
      ],
      "text/plain": [
       "                                                    title  \\\n",
       "count                                              123500   \n",
       "unique                                             123500   \n",
       "top     Muere Toni Batllori, autor de la tira diaria d...   \n",
       "freq                                                    1   \n",
       "mean                                                  NaN   \n",
       "std                                                   NaN   \n",
       "min                                                   NaN   \n",
       "25%                                                   NaN   \n",
       "50%                                                   NaN   \n",
       "75%                                                   NaN   \n",
       "max                                                   NaN   \n",
       "\n",
       "                                                     body   topic  \\\n",
       "count                                              123500  123500   \n",
       "unique                                             123500       7   \n",
       "top     Toni Batllori Obiols ha fallecido esta noche e...  Latest   \n",
       "freq                                                    1   74777   \n",
       "mean                                                  NaN     NaN   \n",
       "std                                                   NaN     NaN   \n",
       "min                                                   NaN     NaN   \n",
       "25%                                                   NaN     NaN   \n",
       "50%                                                   NaN     NaN   \n",
       "75%                                                   NaN     NaN   \n",
       "max                                                   NaN     NaN   \n",
       "\n",
       "                votes         clicks       comments  \n",
       "count   123500.000000  123500.000000  123500.000000  \n",
       "unique            NaN            NaN            NaN  \n",
       "top               NaN            NaN            NaN  \n",
       "freq              NaN            NaN            NaN  \n",
       "mean       499.308907    4266.780502      93.947012  \n",
       "std        381.540534    4496.099653      82.082242  \n",
       "min         10.000000      21.000000       1.000000  \n",
       "25%        246.000000    1500.000000      40.000000  \n",
       "50%        390.000000    2900.000000      71.000000  \n",
       "75%        625.000000    5500.000000     121.000000  \n",
       "max       5600.000000  293100.000000    1600.000000  "
      ]
     },
     "execution_count": 21,
     "metadata": {},
     "output_type": "execute_result"
    }
   ],
   "source": [
    "news_df.describe(include='all')"
   ]
  },
  {
   "cell_type": "code",
   "execution_count": 24,
   "id": "540cf212",
   "metadata": {},
   "outputs": [
    {
     "name": "stdout",
     "output_type": "stream",
     "text": [
      "<class 'pandas.core.frame.DataFrame'>\n",
      "Int64Index: 123500 entries, 0 to 123860\n",
      "Data columns (total 6 columns):\n",
      " #   Column    Non-Null Count   Dtype \n",
      "---  ------    --------------   ----- \n",
      " 0   title     123500 non-null  object\n",
      " 1   body      123500 non-null  object\n",
      " 2   topic     123500 non-null  object\n",
      " 3   votes     123500 non-null  int64 \n",
      " 4   clicks    123500 non-null  int64 \n",
      " 5   comments  123500 non-null  int64 \n",
      "dtypes: int64(3), object(3)\n",
      "memory usage: 6.6+ MB\n"
     ]
    }
   ],
   "source": [
    "news_df.info()"
   ]
  },
  {
   "cell_type": "code",
   "execution_count": null,
   "id": "d6d97111",
   "metadata": {},
   "outputs": [],
   "source": [
    "df"
   ]
  },
  {
   "cell_type": "markdown",
   "id": "3126f8d8",
   "metadata": {},
   "source": [
    "- There are no duplicated rows\n",
    "- There are no null or nan values\n",
    "- Values are clear and meaningfull\n",
    "- Dtypes are coherent\n",
    "- Data is consistent and robust\n",
    "\n",
    "Other issues will be handled in further developments"
   ]
  },
  {
   "cell_type": "markdown",
   "id": "1e883c0b",
   "metadata": {},
   "source": [
    "# Save file"
   ]
  },
  {
   "cell_type": "code",
   "execution_count": 23,
   "id": "7fd5645e",
   "metadata": {},
   "outputs": [],
   "source": [
    "news_df.to_csv('../DATA/news_125k.csv')"
   ]
  },
  {
   "cell_type": "code",
   "execution_count": null,
   "id": "6a7e5661",
   "metadata": {},
   "outputs": [],
   "source": []
  }
 ],
 "metadata": {
  "kernelspec": {
   "display_name": "Python 3 (ipykernel)",
   "language": "python",
   "name": "python3"
  },
  "language_info": {
   "codemirror_mode": {
    "name": "ipython",
    "version": 3
   },
   "file_extension": ".py",
   "mimetype": "text/x-python",
   "name": "python",
   "nbconvert_exporter": "python",
   "pygments_lexer": "ipython3",
   "version": "3.9.12"
  }
 },
 "nbformat": 4,
 "nbformat_minor": 5
}
