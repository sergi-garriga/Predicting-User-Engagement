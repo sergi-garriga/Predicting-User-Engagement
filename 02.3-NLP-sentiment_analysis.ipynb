{
 "cells": [
  {
   "cell_type": "markdown",
   "id": "afb77e58",
   "metadata": {},
   "source": [
    "# Libraries"
   ]
  },
  {
   "cell_type": "code",
   "execution_count": 16,
   "id": "2eb0b192",
   "metadata": {},
   "outputs": [],
   "source": [
    "import pandas as pd \n",
    "import numpy as np \n",
    "import re "
   ]
  },
  {
   "cell_type": "code",
   "execution_count": 18,
   "id": "d8c319b4",
   "metadata": {},
   "outputs": [],
   "source": [
    "import matplotlib.pyplot as plt \n",
    "import seaborn as sns \n",
    "%matplotlib inline"
   ]
  },
  {
   "cell_type": "markdown",
   "id": "53a54ed3",
   "metadata": {},
   "source": [
    "# Constants"
   ]
  },
  {
   "cell_type": "code",
   "execution_count": 105,
   "id": "e7f12953",
   "metadata": {},
   "outputs": [],
   "source": [
    "DATA_PATH = '../DATA/news_125k-tokens-relevant.csv'"
   ]
  },
  {
   "cell_type": "markdown",
   "id": "8b5e70fa",
   "metadata": {},
   "source": [
    "# Bespoke Functions"
   ]
  },
  {
   "cell_type": "code",
   "execution_count": 106,
   "id": "ff592e8f",
   "metadata": {},
   "outputs": [],
   "source": []
  },
  {
   "cell_type": "markdown",
   "id": "49d157d4",
   "metadata": {},
   "source": [
    "# Import data"
   ]
  },
  {
   "cell_type": "code",
   "execution_count": 110,
   "id": "f9d30a8e",
   "metadata": {
    "scrolled": true
   },
   "outputs": [
    {
     "data": {
      "text/html": [
       "<div>\n",
       "<style scoped>\n",
       "    .dataframe tbody tr th:only-of-type {\n",
       "        vertical-align: middle;\n",
       "    }\n",
       "\n",
       "    .dataframe tbody tr th {\n",
       "        vertical-align: top;\n",
       "    }\n",
       "\n",
       "    .dataframe thead th {\n",
       "        text-align: right;\n",
       "    }\n",
       "</style>\n",
       "<table border=\"1\" class=\"dataframe\">\n",
       "  <thead>\n",
       "    <tr style=\"text-align: right;\">\n",
       "      <th></th>\n",
       "      <th>title</th>\n",
       "      <th>body</th>\n",
       "      <th>topic</th>\n",
       "      <th>votes</th>\n",
       "      <th>clicks</th>\n",
       "      <th>comments</th>\n",
       "    </tr>\n",
       "  </thead>\n",
       "  <tbody>\n",
       "    <tr>\n",
       "      <th>0</th>\n",
       "      <td>Muere Toni Batllori, autor de la tira diaria d...</td>\n",
       "      <td>Toni Batllori Obiols ha fallecido esta noche e...</td>\n",
       "      <td>Culture</td>\n",
       "      <td>144</td>\n",
       "      <td>1100</td>\n",
       "      <td>11</td>\n",
       "    </tr>\n",
       "    <tr>\n",
       "      <th>1</th>\n",
       "      <td>La anarquía explicada a los niños por José A. ...</td>\n",
       "      <td>En 1931 el maestro José Antonio Emmanuel, y me...</td>\n",
       "      <td>Culture</td>\n",
       "      <td>196</td>\n",
       "      <td>1800</td>\n",
       "      <td>109</td>\n",
       "    </tr>\n",
       "    <tr>\n",
       "      <th>2</th>\n",
       "      <td>Rhianan Rudd, la adolescente a la que el MI5 a...</td>\n",
       "      <td>Rhianan Rudd, una adolescente de 14 años que v...</td>\n",
       "      <td>Latest</td>\n",
       "      <td>330</td>\n",
       "      <td>6100</td>\n",
       "      <td>77</td>\n",
       "    </tr>\n",
       "    <tr>\n",
       "      <th>3</th>\n",
       "      <td>Piden por burofax al obispo de Cartagena que r...</td>\n",
       "      <td>La catedral de Murcia, la iglesia de El Salvad...</td>\n",
       "      <td>Politics</td>\n",
       "      <td>410</td>\n",
       "      <td>881</td>\n",
       "      <td>54</td>\n",
       "    </tr>\n",
       "    <tr>\n",
       "      <th>4</th>\n",
       "      <td>Érase una vez... (1950)</td>\n",
       "      <td>Érase una vez... (1950) dirigida por Josep Esc...</td>\n",
       "      <td>Culture</td>\n",
       "      <td>114</td>\n",
       "      <td>100</td>\n",
       "      <td>9</td>\n",
       "    </tr>\n",
       "  </tbody>\n",
       "</table>\n",
       "</div>"
      ],
      "text/plain": [
       "                                               title  \\\n",
       "0  Muere Toni Batllori, autor de la tira diaria d...   \n",
       "1  La anarquía explicada a los niños por José A. ...   \n",
       "2  Rhianan Rudd, la adolescente a la que el MI5 a...   \n",
       "3  Piden por burofax al obispo de Cartagena que r...   \n",
       "4                            Érase una vez... (1950)   \n",
       "\n",
       "                                                body     topic  votes  clicks  \\\n",
       "0  Toni Batllori Obiols ha fallecido esta noche e...   Culture    144    1100   \n",
       "1  En 1931 el maestro José Antonio Emmanuel, y me...   Culture    196    1800   \n",
       "2  Rhianan Rudd, una adolescente de 14 años que v...    Latest    330    6100   \n",
       "3  La catedral de Murcia, la iglesia de El Salvad...  Politics    410     881   \n",
       "4  Érase una vez... (1950) dirigida por Josep Esc...   Culture    114     100   \n",
       "\n",
       "   comments  \n",
       "0        11  \n",
       "1       109  \n",
       "2        77  \n",
       "3        54  \n",
       "4         9  "
      ]
     },
     "execution_count": 110,
     "metadata": {},
     "output_type": "execute_result"
    }
   ],
   "source": [
    "df = pd.read_csv(DATA_PATH, index_col=0)\n",
    "df.head()"
   ]
  },
  {
   "cell_type": "markdown",
   "id": "7383ec33",
   "metadata": {},
   "source": [
    "# Sentiment Anlysis"
   ]
  },
  {
   "cell_type": "code",
   "execution_count": 4,
   "id": "ff08a157",
   "metadata": {},
   "outputs": [
    {
     "name": "stdout",
     "output_type": "stream",
     "text": [
      "Requirement already satisfied: transformers in /opt/anaconda3/lib/python3.9/site-packages (4.25.1)\n",
      "Requirement already satisfied: regex!=2019.12.17 in /opt/anaconda3/lib/python3.9/site-packages (from transformers) (2022.7.9)\n",
      "Requirement already satisfied: huggingface-hub<1.0,>=0.10.0 in /opt/anaconda3/lib/python3.9/site-packages (from transformers) (0.11.1)\n",
      "Requirement already satisfied: filelock in /opt/anaconda3/lib/python3.9/site-packages (from transformers) (3.9.0)\n",
      "Requirement already satisfied: pyyaml>=5.1 in /opt/anaconda3/lib/python3.9/site-packages (from transformers) (6.0)\n",
      "Requirement already satisfied: numpy>=1.17 in /opt/anaconda3/lib/python3.9/site-packages (from transformers) (1.21.5)\n",
      "Requirement already satisfied: tokenizers!=0.11.3,<0.14,>=0.11.1 in /opt/anaconda3/lib/python3.9/site-packages (from transformers) (0.13.2)\n",
      "Requirement already satisfied: tqdm>=4.27 in /opt/anaconda3/lib/python3.9/site-packages (from transformers) (4.64.1)\n",
      "Requirement already satisfied: requests in /opt/anaconda3/lib/python3.9/site-packages (from transformers) (2.28.1)\n",
      "Requirement already satisfied: packaging>=20.0 in /opt/anaconda3/lib/python3.9/site-packages (from transformers) (22.0)\n",
      "Requirement already satisfied: typing-extensions>=3.7.4.3 in /opt/anaconda3/lib/python3.9/site-packages (from huggingface-hub<1.0,>=0.10.0->transformers) (4.4.0)\n",
      "Requirement already satisfied: certifi>=2017.4.17 in /opt/anaconda3/lib/python3.9/site-packages (from requests->transformers) (2022.12.7)\n",
      "Requirement already satisfied: urllib3<1.27,>=1.21.1 in /opt/anaconda3/lib/python3.9/site-packages (from requests->transformers) (1.26.13)\n",
      "Requirement already satisfied: idna<4,>=2.5 in /opt/anaconda3/lib/python3.9/site-packages (from requests->transformers) (3.4)\n",
      "Requirement already satisfied: charset-normalizer<3,>=2 in /opt/anaconda3/lib/python3.9/site-packages (from requests->transformers) (2.0.4)\n"
     ]
    }
   ],
   "source": [
    "!pip install transformers"
   ]
  },
  {
   "cell_type": "code",
   "execution_count": 94,
   "id": "31367559",
   "metadata": {},
   "outputs": [],
   "source": [
    "df_sentiment_try = df.iloc[:]"
   ]
  },
  {
   "cell_type": "code",
   "execution_count": 95,
   "id": "215c4c21",
   "metadata": {},
   "outputs": [],
   "source": [
    "text_polarity = []\n",
    "text_score = []"
   ]
  },
  {
   "cell_type": "markdown",
   "id": "14f587db",
   "metadata": {},
   "source": [
    "### Create model"
   ]
  },
  {
   "cell_type": "code",
   "execution_count": null,
   "id": "5237bde7",
   "metadata": {},
   "outputs": [],
   "source": [
    "from transformers import pipeline"
   ]
  },
  {
   "cell_type": "code",
   "execution_count": null,
   "id": "414bf456",
   "metadata": {},
   "outputs": [],
   "source": [
    "classifier = pipeline('sentiment-analysis', \n",
    "                      model=\"nlptown/bert-base-multilingual-uncased-sentiment\")"
   ]
  },
  {
   "cell_type": "code",
   "execution_count": 96,
   "id": "ef8dd478",
   "metadata": {},
   "outputs": [
    {
     "name": "stdout",
     "output_type": "stream",
     "text": [
      "CPU times: user 21h 10min 25s, sys: 9min 18s, total: 21h 19min 44s\n",
      "Wall time: 5h 21min 19s\n"
     ]
    }
   ],
   "source": [
    "%%time\n",
    "for text in df_sentiment_try['clean_text']:    \n",
    "    if len(text) > 512:\n",
    "        text = text[:512] # max of 512, otherwise, gives error.\n",
    "    else:\n",
    "        pass\n",
    "    results = classifier(text)\n",
    "    \n",
    "    # get the polarities\n",
    "    polarity = results[0]['label']\n",
    "    text_polarity.append(polarity)\n",
    "    \n",
    "\n",
    "    # get the score\n",
    "    score = round(results[0]['score'], 2)\n",
    "    text_score.append(score)"
   ]
  },
  {
   "cell_type": "markdown",
   "id": "71519c6f",
   "metadata": {},
   "source": [
    "### Add results to the dataframe"
   ]
  },
  {
   "cell_type": "code",
   "execution_count": 98,
   "id": "ddaddf6a",
   "metadata": {},
   "outputs": [],
   "source": [
    "df_sentiment_try['polarity'] = text_polarity\n",
    "df_sentiment_try['polarity_score'] = text_score"
   ]
  },
  {
   "cell_type": "code",
   "execution_count": 97,
   "id": "e84f6ef9",
   "metadata": {},
   "outputs": [
    {
     "data": {
      "text/plain": [
       "(123500, 123500)"
      ]
     },
     "execution_count": 97,
     "metadata": {},
     "output_type": "execute_result"
    }
   ],
   "source": [
    "len(text_polarity), len(text_score)"
   ]
  },
  {
   "cell_type": "markdown",
   "id": "9eaed299",
   "metadata": {},
   "source": [
    "# Save file"
   ]
  },
  {
   "cell_type": "code",
   "execution_count": 103,
   "id": "9f175fd3",
   "metadata": {},
   "outputs": [],
   "source": [
    "df_sentiment_try.to_csv('../DATA/news_125k-tokens-relevant-with_polarity.csv')"
   ]
  },
  {
   "cell_type": "markdown",
   "id": "29d448d9",
   "metadata": {},
   "source": [
    "### Using TextBlob"
   ]
  },
  {
   "cell_type": "code",
   "execution_count": null,
   "id": "f65fbe06",
   "metadata": {},
   "outputs": [],
   "source": [
    "!pip install -U textblob"
   ]
  },
  {
   "cell_type": "code",
   "execution_count": null,
   "id": "0d560bd0",
   "metadata": {},
   "outputs": [],
   "source": [
    "!python -m textblob.download_corpora"
   ]
  },
  {
   "cell_type": "code",
   "execution_count": 20,
   "id": "d1a747e9",
   "metadata": {},
   "outputs": [],
   "source": [
    "from textblob import TextBlob"
   ]
  },
  {
   "cell_type": "code",
   "execution_count": null,
   "id": "63f9d91e",
   "metadata": {},
   "outputs": [],
   "source": [
    "textblob_polarity = []\n",
    "textblob_subjectivity = []\n",
    "\n",
    "\n",
    "for text in df['clean_text']:\n",
    "    # first we need to translate \n",
    "    text_blob = TextBlob(text)\n",
    "    text_blob.translate(to='en')\n",
    "    \n",
    "    # get the polarities\n",
    "    text_polarity = text_blob.sentiment.polarity\n",
    "    textblob_polarity.append(text_polarity)\n",
    "    \n",
    "    # get the subjectivities\n",
    "    text_subjectivity = text_blob.sentiment.subjectivity\n",
    "    textblob_subjectivity.append(text_subjectivity)"
   ]
  },
  {
   "cell_type": "code",
   "execution_count": null,
   "id": "c1cb5562",
   "metadata": {},
   "outputs": [],
   "source": [
    "df['polarity'] = textblob_polarity\n",
    "df['subjectivity'] = textblob_subjectivity"
   ]
  }
 ],
 "metadata": {
  "kernelspec": {
   "display_name": "Python 3 (ipykernel)",
   "language": "python",
   "name": "python3"
  },
  "language_info": {
   "codemirror_mode": {
    "name": "ipython",
    "version": 3
   },
   "file_extension": ".py",
   "mimetype": "text/x-python",
   "name": "python",
   "nbconvert_exporter": "python",
   "pygments_lexer": "ipython3",
   "version": "3.9.12"
  }
 },
 "nbformat": 4,
 "nbformat_minor": 5
}
