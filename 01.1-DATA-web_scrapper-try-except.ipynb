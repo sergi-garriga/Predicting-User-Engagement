{
 "cells": [
  {
   "cell_type": "markdown",
   "id": "50ca1d38",
   "metadata": {},
   "source": [
    "# Libraries"
   ]
  },
  {
   "cell_type": "code",
   "execution_count": null,
   "id": "4b280ed3",
   "metadata": {},
   "outputs": [],
   "source": [
    "import pandas as pd\n",
    "\n",
    "import random\n",
    "import time\n",
    "import requests\n",
    "\n",
    "from bs4 import BeautifulSoup"
   ]
  },
  {
   "cell_type": "markdown",
   "id": "02d9e8cd",
   "metadata": {},
   "source": [
    "# Scrapping the website"
   ]
  },
  {
   "cell_type": "code",
   "execution_count": null,
   "id": "6b0ed089",
   "metadata": {},
   "outputs": [],
   "source": [
    "news = []"
   ]
  },
  {
   "cell_type": "code",
   "execution_count": null,
   "id": "ee787118",
   "metadata": {
    "scrolled": true
   },
   "outputs": [],
   "source": [
    "%%time\n",
    "for i in range (5100, 5250):\n",
    "    url = \"https://www.meneame.net/\" + str(i)\n",
    "\n",
    "    header = {\n",
    "        \"User-Agent\": \"Mozilla/5.0 (Macintosh; Intel Mac OS X 10_14_6) AppleWebKit/537.36 (KHTML, like Gecko) Chrome/108.0.0.0 Safari/537.36\",\n",
    "        \"accept-language\": \"en-GB,en-US;q=0.9,en;q=0.8\",\n",
    "    }\n",
    "\n",
    "    \n",
    "    seg = random.randint(5,15)\n",
    "    time.sleep(seg)\n",
    "    \n",
    "    web = requests.get(url, headers=header)\n",
    "    print(web)\n",
    "    \n",
    "    soup = BeautifulSoup(web.text, \"html.parser\")\n",
    "    part_news = soup.find_all(\"div\", attrs={\"class\":\"link\"})\n",
    "    \n",
    "    print(f'{url} done with {len(part_news)} entries')\n",
    "    \n",
    "    news.extend(part_news)\n"
   ]
  },
  {
   "cell_type": "markdown",
   "id": "0fbcb6f7",
   "metadata": {},
   "source": [
    "# Creating a Dataframe"
   ]
  },
  {
   "cell_type": "markdown",
   "id": "f974c526",
   "metadata": {},
   "source": [
    "### Checking BeautifulSoup commands"
   ]
  },
  {
   "cell_type": "code",
   "execution_count": null,
   "id": "4b5480d5",
   "metadata": {},
   "outputs": [],
   "source": [
    "title = news[0].find('h2').text\n",
    "title"
   ]
  },
  {
   "cell_type": "code",
   "execution_count": null,
   "id": "c42e40ab",
   "metadata": {},
   "outputs": [],
   "source": [
    "body = news[0].find(class_='link-preview').text\n",
    "body"
   ]
  },
  {
   "cell_type": "code",
   "execution_count": null,
   "id": "b587b47a",
   "metadata": {},
   "outputs": [],
   "source": [
    "category = news[0].find(class_='community-name').span.text\n",
    "category"
   ]
  },
  {
   "cell_type": "code",
   "execution_count": null,
   "id": "fb4ce368",
   "metadata": {},
   "outputs": [],
   "source": [
    "votes = news[0].find(class_='votes-counter').text\n",
    "votes"
   ]
  },
  {
   "cell_type": "code",
   "execution_count": null,
   "id": "fb1215f6",
   "metadata": {},
   "outputs": [],
   "source": [
    "clicks = news[0].select('div.left-actions a span.comments-number')[0].text\n",
    "clicks"
   ]
  },
  {
   "cell_type": "code",
   "execution_count": null,
   "id": "35f0ecc1",
   "metadata": {},
   "outputs": [],
   "source": [
    "comments = news[0].select('div.left-actions a span.comments-number')[1].text\n",
    "comments"
   ]
  },
  {
   "cell_type": "markdown",
   "id": "aec3a4fd",
   "metadata": {},
   "source": [
    "### Loop through the results"
   ]
  },
  {
   "cell_type": "code",
   "execution_count": null,
   "id": "fca8aa2c",
   "metadata": {},
   "outputs": [],
   "source": [
    "news_data = {'title':[], 'body':[], 'categroy':[], 'votes':[], 'clicks':[], 'comments':[]}\n",
    "error_counter = 0\n",
    "for i in news:\n",
    "    try:\n",
    "        title = i.find('h2').text\n",
    "        body = i.find(class_='link-preview').text\n",
    "        category = i.find(class_='community-name').span.text\n",
    "        votes = i.find(class_='votes-counter').text\n",
    "        clicks = i.find(class_='comments-number').text\n",
    "        comments = i.select('div.left-actions a span.comments-number')[1].text\n",
    "        \n",
    "        news_data['title'].append(title)\n",
    "        news_data['body'].append(body)\n",
    "        news_data['category'].append(topic)\n",
    "        news_data['votes'].append(votes)\n",
    "        news_data['clicks'].append(clicks)\n",
    "        news_data['comments'].append(comments)\n",
    "\n",
    "    except:\n",
    "        error_counter += 1\n"
   ]
  },
  {
   "cell_type": "code",
   "execution_count": null,
   "id": "c52612b3",
   "metadata": {},
   "outputs": [],
   "source": [
    "error_counter"
   ]
  },
  {
   "cell_type": "code",
   "execution_count": null,
   "id": "d2c2bfd3",
   "metadata": {},
   "outputs": [],
   "source": [
    "news_df_raw = pd.DataFrame(news_data)"
   ]
  },
  {
   "cell_type": "markdown",
   "id": "b4dc7431",
   "metadata": {},
   "source": [
    "# Save raw data"
   ]
  },
  {
   "cell_type": "code",
   "execution_count": null,
   "id": "f88a4a6c",
   "metadata": {},
   "outputs": [],
   "source": [
    "news_df_raw.to_csv('../DATA/news_125K_raw.csv')"
   ]
  }
 ],
 "metadata": {
  "kernelspec": {
   "display_name": "Python 3 (ipykernel)",
   "language": "python",
   "name": "python3"
  },
  "language_info": {
   "codemirror_mode": {
    "name": "ipython",
    "version": 3
   },
   "file_extension": ".py",
   "mimetype": "text/x-python",
   "name": "python",
   "nbconvert_exporter": "python",
   "pygments_lexer": "ipython3",
   "version": "3.9.12"
  }
 },
 "nbformat": 4,
 "nbformat_minor": 5
}
